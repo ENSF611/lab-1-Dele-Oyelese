{
 "cells": [
  {
   "cell_type": "code",
   "execution_count": null,
   "id": "10f99099-dc6c-4a9a-98b8-6ea7131d8e06",
   "metadata": {},
   "outputs": [],
   "source": [
    "@Author Dele Oyelese"
   ]
  },
  {
   "cell_type": "code",
   "execution_count": 3,
   "id": "51a67804-88c4-4946-a1d8-e3c74eadae5e",
   "metadata": {},
   "outputs": [
    {
     "name": "stdout",
     "output_type": "stream",
     "text": [
      "Python version: 3.9.13 (main, Aug 25 2022, 18:29:29) \n",
      "[Clang 12.0.0 ]\n",
      "pandas version: 1.4.2\n",
      "matplotlib version: 3.5.2\n",
      "NumPy version: 1.21.5\n",
      "SciPy version: 1.7.3\n",
      "IPython version: 8.4.0\n",
      "scikit-learn version: 1.1.1\n",
      "yellowbrick version: 1.5\n"
     ]
    }
   ],
   "source": [
    "import sys\n",
    "\n",
    "print(\"Python version:\", sys.version)\n",
    "\n",
    " \n",
    "\n",
    "import pandas as pd\n",
    "\n",
    "print(\"pandas version:\", pd.__version__)\n",
    "\n",
    " \n",
    "\n",
    "import matplotlib\n",
    "\n",
    "print(\"matplotlib version:\", matplotlib.__version__)\n",
    "\n",
    " \n",
    "\n",
    "import numpy as np\n",
    "\n",
    "print(\"NumPy version:\", np.__version__)\n",
    "\n",
    " \n",
    "\n",
    "import scipy as sp\n",
    "\n",
    "print(\"SciPy version:\", sp.__version__)\n",
    "\n",
    " \n",
    "\n",
    "import IPython\n",
    "\n",
    "print(\"IPython version:\", IPython.__version__)\n",
    "\n",
    " \n",
    "\n",
    "import sklearn\n",
    "\n",
    "print(\"scikit-learn version:\", sklearn.__version__)\n",
    "\n",
    " \n",
    "\n",
    "import yellowbrick\n",
    "\n",
    "print(\"yellowbrick version:\", yellowbrick.__version__)"
   ]
  },
  {
   "cell_type": "code",
   "execution_count": 6,
   "id": "90ec0059-ddb2-44d4-a7a3-02491a48ab51",
   "metadata": {},
   "outputs": [
    {
     "name": "stdout",
     "output_type": "stream",
     "text": [
      "# conda environments:\n",
      "#\n",
      "base                     /Users/deleoyelese/opt/anaconda3\n",
      "ensf-ml               *  /Users/deleoyelese/opt/anaconda3/envs/ensf-ml\n",
      "ensf592                  /Users/deleoyelese/opt/anaconda3/envs/ensf592\n",
      "\n",
      "\n",
      "Note: you may need to restart the kernel to use updated packages.\n"
     ]
    }
   ],
   "source": [
    "conda env list"
   ]
  },
  {
   "cell_type": "code",
   "execution_count": null,
   "id": "311b62f0-c2c0-4f81-bcb2-ec28e7f9d48a",
   "metadata": {},
   "outputs": [],
   "source": []
  }
 ],
 "metadata": {
  "kernelspec": {
   "display_name": "Python 3 (ipykernel)",
   "language": "python",
   "name": "python3"
  },
  "language_info": {
   "codemirror_mode": {
    "name": "ipython",
    "version": 3
   },
   "file_extension": ".py",
   "mimetype": "text/x-python",
   "name": "python",
   "nbconvert_exporter": "python",
   "pygments_lexer": "ipython3",
   "version": "3.9.13"
  }
 },
 "nbformat": 4,
 "nbformat_minor": 5
}
